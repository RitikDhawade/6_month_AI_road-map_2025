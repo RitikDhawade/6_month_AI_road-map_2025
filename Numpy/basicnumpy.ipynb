{
 "cells": [
  {
   "cell_type": "raw",
   "id": "0ec5eef7-1c36-402f-9e52-4ec310a54c6c",
   "metadata": {},
   "source": [
    "Numpy is a Numerical python\n",
    "Numpy is a library which is used to handle array\n",
    "\n",
    "Numpy use for \n",
    "1. Arithmatic operation\n",
    "2. Statistical Operation\n",
    "3. Bitwise Operation\n",
    "4. Copy and View Array\n",
    "5. Stacking\n",
    "6. Searching , Sorting and Counting\n",
    "7. Linear Algebra\n",
    "8. Matrix Operation\n",
    "9. Mathematical Operation\n",
    "\n",
    "Type of Array \n",
    "1. One Diamention array (Only One Row)\n",
    "   ex :  [1,2,3,5]\n",
    "2. Two Diamentional Array  (Two Row Are) \n",
    "    ex : [1,2,3,45,0] ---> First Row\n",
    "         [2,4,5,6,2]  ---> Second Row\n",
    "3. Three Diamentional Array (Three Row Present)\n",
    "     ex: [73,19,18,90] ----> First Row\n",
    "         [21,88,19,80] -----> Second Row\n",
    "         [24,18,19,26] ------> Third Row "
   ]
  },
  {
   "cell_type": "code",
   "execution_count": 6,
   "id": "6bdc9fba-29dd-467c-8346-992b73a5c836",
   "metadata": {},
   "outputs": [],
   "source": [
    "import numpy as np"
   ]
  },
  {
   "cell_type": "code",
   "execution_count": 9,
   "id": "1a69ee1a-0bce-48ee-aaa0-f361945ef0d9",
   "metadata": {},
   "outputs": [
    {
     "data": {
      "text/plain": [
       "'2.2.6'"
      ]
     },
     "execution_count": 9,
     "metadata": {},
     "output_type": "execute_result"
    }
   ],
   "source": [
    "np.__version__"
   ]
  },
  {
   "cell_type": "code",
   "execution_count": 16,
   "id": "c3cf61a9-2e94-41aa-931a-2d1618a7dd4f",
   "metadata": {},
   "outputs": [
    {
     "data": {
      "text/plain": [
       "'3.13.3 (tags/v3.13.3:6280bb5, Apr  8 2025, 14:47:33) [MSC v.1943 64 bit (AMD64)]'"
      ]
     },
     "execution_count": 16,
     "metadata": {},
     "output_type": "execute_result"
    }
   ],
   "source": [
    "import sys\n",
    "sys.version"
   ]
  },
  {
   "cell_type": "markdown",
   "id": "e7595f12-179d-4813-9d60-92b5c1121ca0",
   "metadata": {},
   "source": [
    "## Creating List"
   ]
  },
  {
   "cell_type": "code",
   "execution_count": 17,
   "id": "556182d0-cf46-4fc5-8bcf-857e5ee06bd8",
   "metadata": {},
   "outputs": [
    {
     "data": {
      "text/plain": [
       "[0, 1, 2, 3, 4, 5]"
      ]
     },
     "execution_count": 17,
     "metadata": {},
     "output_type": "execute_result"
    }
   ],
   "source": [
    "my_list = [0,1,2,3,4,5]\n",
    "my_list"
   ]
  },
  {
   "cell_type": "code",
   "execution_count": 18,
   "id": "bdc31a6a-4a05-4d5f-be81-6852e2708d21",
   "metadata": {},
   "outputs": [
    {
     "data": {
      "text/plain": [
       "list"
      ]
     },
     "execution_count": 18,
     "metadata": {},
     "output_type": "execute_result"
    }
   ],
   "source": [
    "type(my_list)"
   ]
  },
  {
   "cell_type": "markdown",
   "id": "7255b2ed-1723-46c9-bce5-4c7f3f065763",
   "metadata": {},
   "source": [
    "## List To Array"
   ]
  },
  {
   "cell_type": "code",
   "execution_count": 28,
   "id": "69adcaf3-b829-4bb6-96f0-cfbe2cc2a9f4",
   "metadata": {},
   "outputs": [
    {
     "name": "stdout",
     "output_type": "stream",
     "text": [
      "[ 12  29  19  28 209]\n",
      "<class 'numpy.ndarray'>\n"
     ]
    }
   ],
   "source": [
    "print(np.array([12,29,19,28,209]))\n",
    "print(type(np.array([12,29,19,28,209])))"
   ]
  },
  {
   "cell_type": "code",
   "execution_count": 20,
   "id": "951490fa-c6a7-48f3-818f-44ec3557b216",
   "metadata": {},
   "outputs": [
    {
     "data": {
      "text/plain": [
       "array([0, 1, 2, 3, 4, 5])"
      ]
     },
     "execution_count": 20,
     "metadata": {},
     "output_type": "execute_result"
    }
   ],
   "source": [
    "arr = np.array(my_list)\n",
    "arr"
   ]
  },
  {
   "cell_type": "code",
   "execution_count": 24,
   "id": "87708f4b-2b76-4fb9-b305-6438841cdc12",
   "metadata": {},
   "outputs": [
    {
     "name": "stdout",
     "output_type": "stream",
     "text": [
      "[0 1 2 3 4 5]\n",
      "Type of my_list : <class 'list'>\n",
      "Type of arr : <class 'numpy.ndarray'>\n"
     ]
    }
   ],
   "source": [
    "print(arr)\n",
    "print('Type of my_list :',type(my_list))\n",
    "print('Type of arr :',type(arr))"
   ]
  },
  {
   "cell_type": "raw",
   "id": "7171ad02-bb9e-423b-8721-6df0c9333e68",
   "metadata": {},
   "source": [
    "arange : np.arange() create a array in the given argument"
   ]
  },
  {
   "cell_type": "code",
   "execution_count": 30,
   "id": "fea272dd-3597-49ba-a09d-95b1ce435168",
   "metadata": {},
   "outputs": [
    {
     "data": {
      "text/plain": [
       "array([0, 1, 2, 3, 4, 5, 6, 7, 8, 9])"
      ]
     },
     "execution_count": 30,
     "metadata": {},
     "output_type": "execute_result"
    }
   ],
   "source": [
    "np.arange(10)"
   ]
  },
  {
   "cell_type": "code",
   "execution_count": 31,
   "id": "7e3735c7-b204-4927-a402-61ecc6d64b26",
   "metadata": {},
   "outputs": [
    {
     "data": {
      "text/plain": [
       "array([0., 1., 2., 3., 4.])"
      ]
     },
     "execution_count": 31,
     "metadata": {},
     "output_type": "execute_result"
    }
   ],
   "source": [
    "np.arange(5.0)"
   ]
  },
  {
   "cell_type": "code",
   "execution_count": 32,
   "id": "8a810f08-226d-4aaf-9210-f4c448709134",
   "metadata": {},
   "outputs": [
    {
     "data": {
      "text/plain": [
       "array([0, 1, 2, 3, 4, 5, 6, 7, 8])"
      ]
     },
     "execution_count": 32,
     "metadata": {},
     "output_type": "execute_result"
    }
   ],
   "source": [
    "np.arange(9)"
   ]
  },
  {
   "cell_type": "code",
   "execution_count": null,
   "id": "97b8ff0b-af87-4287-9968-9b28a0fbba2a",
   "metadata": {},
   "outputs": [],
   "source": []
  },
  {
   "cell_type": "code",
   "execution_count": 36,
   "id": "8f7e47f1-0caa-4340-a94c-0d0fe391b538",
   "metadata": {},
   "outputs": [
    {
     "data": {
      "text/plain": [
       "array([0, 1, 2, 3, 4])"
      ]
     },
     "execution_count": 36,
     "metadata": {},
     "output_type": "execute_result"
    }
   ],
   "source": [
    "np.arange(0,5)  "
   ]
  },
  {
   "cell_type": "code",
   "execution_count": 39,
   "id": "fa7c5daf-891c-4f63-af11-36fd3dfd6d87",
   "metadata": {},
   "outputs": [
    {
     "data": {
      "text/plain": [
       "array([10, 11, 12, 13, 14, 15, 16, 17, 18, 19])"
      ]
     },
     "execution_count": 39,
     "metadata": {},
     "output_type": "execute_result"
    }
   ],
   "source": [
    "np.arange(10,20) # Value between 10 to 20"
   ]
  },
  {
   "cell_type": "code",
   "execution_count": 42,
   "id": "e5c85df8-4868-4087-a3f8-bfa4beae862c",
   "metadata": {},
   "outputs": [
    {
     "data": {
      "text/plain": [
       "array([], dtype=int64)"
      ]
     },
     "execution_count": 42,
     "metadata": {},
     "output_type": "execute_result"
    }
   ],
   "source": [
    "np.arange(20,10) # First argument should be less than second arguments"
   ]
  },
  {
   "cell_type": "code",
   "execution_count": 43,
   "id": "93b4f4ef-f34b-4836-aa52-cd8bc56f679c",
   "metadata": {},
   "outputs": [
    {
     "data": {
      "text/plain": [
       "array([-20, -19, -18, -17, -16, -15, -14, -13, -12, -11, -10,  -9,  -8,\n",
       "        -7,  -6,  -5,  -4,  -3,  -2,  -1,   0,   1,   2,   3,   4,   5,\n",
       "         6,   7,   8,   9])"
      ]
     },
     "execution_count": 43,
     "metadata": {},
     "output_type": "execute_result"
    }
   ],
   "source": [
    "np.arange(-20,10)"
   ]
  },
  {
   "cell_type": "code",
   "execution_count": 45,
   "id": "3a9f5338-6a70-4d51-9512-9e6edcc42d77",
   "metadata": {},
   "outputs": [
    {
     "data": {
      "text/plain": [
       "array([-16, -15, -14, -13, -12, -11, -10,  -9,  -8,  -7,  -6,  -5,  -4,\n",
       "        -3,  -2,  -1,   0,   1,   2,   3,   4,   5,   6,   7,   8,   9])"
      ]
     },
     "execution_count": 45,
     "metadata": {},
     "output_type": "execute_result"
    }
   ],
   "source": [
    "np.arange(-16,10)"
   ]
  },
  {
   "cell_type": "code",
   "execution_count": 46,
   "id": "1373c7be-ba09-4db1-8062-cf147cf482a7",
   "metadata": {},
   "outputs": [
    {
     "data": {
      "text/plain": [
       "array([], dtype=int64)"
      ]
     },
     "execution_count": 46,
     "metadata": {},
     "output_type": "execute_result"
    }
   ],
   "source": [
    "np.arange(10,10)"
   ]
  },
  {
   "cell_type": "code",
   "execution_count": 47,
   "id": "64cfa6f0-b955-40ac-8d7a-7c7a757c0617",
   "metadata": {},
   "outputs": [
    {
     "data": {
      "text/plain": [
       "array([10, 15, 20, 25])"
      ]
     },
     "execution_count": 47,
     "metadata": {},
     "output_type": "execute_result"
    }
   ],
   "source": [
    "np.arange(10,30,5) # 5 is the step count"
   ]
  },
  {
   "cell_type": "code",
   "execution_count": 49,
   "id": "df0834fa-c708-4f86-be76-2e6facf20e62",
   "metadata": {},
   "outputs": [
    {
     "data": {
      "text/plain": [
       "array([0, 3, 6, 9])"
      ]
     },
     "execution_count": 49,
     "metadata": {},
     "output_type": "execute_result"
    }
   ],
   "source": [
    "np.arange(0,10,3)"
   ]
  },
  {
   "cell_type": "code",
   "execution_count": 54,
   "id": "60892d83-132c-4bb2-b325-512ee9047fcf",
   "metadata": {},
   "outputs": [
    {
     "data": {
      "text/plain": [
       "array([0., 0., 0., 0., 0., 0., 0., 0., 0., 0.])"
      ]
     },
     "execution_count": 54,
     "metadata": {},
     "output_type": "execute_result"
    }
   ],
   "source": [
    "np.zeros(10) # Create a array of zero \n",
    "# Parameter tunning"
   ]
  },
  {
   "cell_type": "code",
   "execution_count": 64,
   "id": "a0228eb3-b3aa-4274-a30a-e1647d50a37a",
   "metadata": {},
   "outputs": [
    {
     "data": {
      "text/plain": [
       "array([0., 0., 0., 0., 0.])"
      ]
     },
     "execution_count": 64,
     "metadata": {},
     "output_type": "execute_result"
    }
   ],
   "source": [
    "np.zeros(5) "
   ]
  },
  {
   "cell_type": "code",
   "execution_count": 66,
   "id": "d43b7f1a-dc6e-4457-ad83-da63d9959ac0",
   "metadata": {},
   "outputs": [
    {
     "data": {
      "text/plain": [
       "array([0, 0, 0, 0, 0])"
      ]
     },
     "execution_count": 66,
     "metadata": {},
     "output_type": "execute_result"
    }
   ],
   "source": [
    "np.zeros(5,dtype=int) # Hyperparameter  tunning"
   ]
  },
  {
   "cell_type": "code",
   "execution_count": 75,
   "id": "4300b48d-b9ee-45b6-b599-e458fb28d40a",
   "metadata": {},
   "outputs": [
    {
     "name": "stdout",
     "output_type": "stream",
     "text": [
      "[[0 0]\n",
      " [0 0]]\n",
      "arr is the 2 diamentional array\n"
     ]
    }
   ],
   "source": [
    "# 2 diamentional array\n",
    "arr = np.zeros((2,2),dtype=int)\n",
    "print(arr)\n",
    "print(f'arr is the {np.ndim(arr)} diamentional array')"
   ]
  },
  {
   "cell_type": "code",
   "execution_count": 70,
   "id": "8b5ac187-957a-492c-ab79-cd56dcc2e444",
   "metadata": {},
   "outputs": [
    {
     "name": "stdout",
     "output_type": "stream",
     "text": [
      "[[0. 0.]\n",
      " [0. 0.]]\n",
      "<class 'numpy.ndarray'>\n"
     ]
    }
   ],
   "source": [
    "zero = np.zeros([2,2])\n",
    "print(zero)\n",
    "print(type(zero))"
   ]
  },
  {
   "cell_type": "code",
   "execution_count": 79,
   "id": "735f41ec-623a-4d78-bb37-faa66dc28ea0",
   "metadata": {},
   "outputs": [
    {
     "data": {
      "text/plain": [
       "array([[0., 0., 0., 0., 0., 0., 0., 0., 0., 0.],\n",
       "       [0., 0., 0., 0., 0., 0., 0., 0., 0., 0.]])"
      ]
     },
     "execution_count": 79,
     "metadata": {},
     "output_type": "execute_result"
    }
   ],
   "source": [
    "np.zeros((2,10)) # Here the 2 is row and 10 is column"
   ]
  },
  {
   "cell_type": "code",
   "execution_count": 88,
   "id": "11db4ce8-975f-4eb0-a540-c973847088cb",
   "metadata": {},
   "outputs": [
    {
     "name": "stdout",
     "output_type": "stream",
     "text": [
      "[[0 0 0 0 0 0 0 0 0 0]\n",
      " [0 0 0 0 0 0 0 0 0 0]\n",
      " [0 0 0 0 0 0 0 0 0 0]\n",
      " [0 0 0 0 0 0 0 0 0 0]\n",
      " [0 0 0 0 0 0 0 0 0 0]\n",
      " [0 0 0 0 0 0 0 0 0 0]\n",
      " [0 0 0 0 0 0 0 0 0 0]\n",
      " [0 0 0 0 0 0 0 0 0 0]\n",
      " [0 0 0 0 0 0 0 0 0 0]\n",
      " [0 0 0 0 0 0 0 0 0 0]]\n",
      "<class 'numpy.ndarray'>\n",
      "2\n"
     ]
    }
   ],
   "source": [
    "n = np.zeros((10,10),dtype=int)\n",
    "print(n)\n",
    "print(type(n))\n",
    "print(np.ndim(n))\n"
   ]
  },
  {
   "cell_type": "code",
   "execution_count": 89,
   "id": "552f1b6c-6ba2-4862-b332-d8ca6fea5a72",
   "metadata": {},
   "outputs": [
    {
     "data": {
      "text/plain": [
       "array([1., 1., 1., 1., 1., 1., 1., 1., 1., 1., 1., 1.])"
      ]
     },
     "execution_count": 89,
     "metadata": {},
     "output_type": "execute_result"
    }
   ],
   "source": [
    "np.ones(12)"
   ]
  },
  {
   "cell_type": "code",
   "execution_count": 91,
   "id": "48ddcd17-2328-4408-a0b0-0861122ae8f2",
   "metadata": {},
   "outputs": [
    {
     "data": {
      "text/plain": [
       "array([[1, 1, 1],\n",
       "       [1, 1, 1],\n",
       "       [1, 1, 1]])"
      ]
     },
     "execution_count": 91,
     "metadata": {},
     "output_type": "execute_result"
    }
   ],
   "source": [
    "np.ones((3,3),dtype=int)"
   ]
  },
  {
   "cell_type": "code",
   "execution_count": 96,
   "id": "c765de05-0dca-405f-aeb7-dd8e5d912ca1",
   "metadata": {},
   "outputs": [
    {
     "ename": "AttributeError",
     "evalue": "module 'numpy' has no attribute 'two'",
     "output_type": "error",
     "traceback": [
      "\u001b[31m---------------------------------------------------------------------------\u001b[39m",
      "\u001b[31mAttributeError\u001b[39m                            Traceback (most recent call last)",
      "\u001b[36mCell\u001b[39m\u001b[36m \u001b[39m\u001b[32mIn[96]\u001b[39m\u001b[32m, line 1\u001b[39m\n\u001b[32m----> \u001b[39m\u001b[32m1\u001b[39m \u001b[43mnp\u001b[49m\u001b[43m.\u001b[49m\u001b[43mtwo\u001b[49m((\u001b[32m2\u001b[39m,\u001b[32m3\u001b[39m))\n",
      "\u001b[36mFile \u001b[39m\u001b[32m~\\AppData\\Local\\Programs\\Python\\Python313\\Lib\\site-packages\\numpy\\__init__.py:427\u001b[39m, in \u001b[36m__getattr__\u001b[39m\u001b[34m(attr)\u001b[39m\n\u001b[32m    424\u001b[39m     \u001b[38;5;28;01mimport\u001b[39;00m\u001b[38;5;250m \u001b[39m\u001b[34;01mnumpy\u001b[39;00m\u001b[34;01m.\u001b[39;00m\u001b[34;01mchar\u001b[39;00m\u001b[38;5;250m \u001b[39m\u001b[38;5;28;01mas\u001b[39;00m\u001b[38;5;250m \u001b[39m\u001b[34;01mchar\u001b[39;00m\n\u001b[32m    425\u001b[39m     \u001b[38;5;28;01mreturn\u001b[39;00m char.chararray\n\u001b[32m--> \u001b[39m\u001b[32m427\u001b[39m \u001b[38;5;28;01mraise\u001b[39;00m \u001b[38;5;167;01mAttributeError\u001b[39;00m(\u001b[33m\"\u001b[39m\u001b[33mmodule \u001b[39m\u001b[38;5;132;01m{!r}\u001b[39;00m\u001b[33m has no attribute \u001b[39m\u001b[33m\"\u001b[39m\n\u001b[32m    428\u001b[39m                      \u001b[33m\"\u001b[39m\u001b[38;5;132;01m{!r}\u001b[39;00m\u001b[33m\"\u001b[39m.format(\u001b[34m__name__\u001b[39m, attr))\n",
      "\u001b[31mAttributeError\u001b[39m: module 'numpy' has no attribute 'two'"
     ]
    }
   ],
   "source": [
    "np.two((2,3))"
   ]
  },
  {
   "cell_type": "code",
   "execution_count": 97,
   "id": "6ffbdc71-4910-42be-af0c-e13b33b81ed7",
   "metadata": {},
   "outputs": [
    {
     "ename": "AttributeError",
     "evalue": "module 'numpy' has no attribute 'three'",
     "output_type": "error",
     "traceback": [
      "\u001b[31m---------------------------------------------------------------------------\u001b[39m",
      "\u001b[31mAttributeError\u001b[39m                            Traceback (most recent call last)",
      "\u001b[36mCell\u001b[39m\u001b[36m \u001b[39m\u001b[32mIn[97]\u001b[39m\u001b[32m, line 1\u001b[39m\n\u001b[32m----> \u001b[39m\u001b[32m1\u001b[39m \u001b[43mnp\u001b[49m\u001b[43m.\u001b[49m\u001b[43mthree\u001b[49m(\u001b[32m2\u001b[39m,\u001b[32m3\u001b[39m)\n",
      "\u001b[36mFile \u001b[39m\u001b[32m~\\AppData\\Local\\Programs\\Python\\Python313\\Lib\\site-packages\\numpy\\__init__.py:427\u001b[39m, in \u001b[36m__getattr__\u001b[39m\u001b[34m(attr)\u001b[39m\n\u001b[32m    424\u001b[39m     \u001b[38;5;28;01mimport\u001b[39;00m\u001b[38;5;250m \u001b[39m\u001b[34;01mnumpy\u001b[39;00m\u001b[34;01m.\u001b[39;00m\u001b[34;01mchar\u001b[39;00m\u001b[38;5;250m \u001b[39m\u001b[38;5;28;01mas\u001b[39;00m\u001b[38;5;250m \u001b[39m\u001b[34;01mchar\u001b[39;00m\n\u001b[32m    425\u001b[39m     \u001b[38;5;28;01mreturn\u001b[39;00m char.chararray\n\u001b[32m--> \u001b[39m\u001b[32m427\u001b[39m \u001b[38;5;28;01mraise\u001b[39;00m \u001b[38;5;167;01mAttributeError\u001b[39;00m(\u001b[33m\"\u001b[39m\u001b[33mmodule \u001b[39m\u001b[38;5;132;01m{!r}\u001b[39;00m\u001b[33m has no attribute \u001b[39m\u001b[33m\"\u001b[39m\n\u001b[32m    428\u001b[39m                      \u001b[33m\"\u001b[39m\u001b[38;5;132;01m{!r}\u001b[39;00m\u001b[33m\"\u001b[39m.format(\u001b[34m__name__\u001b[39m, attr))\n",
      "\u001b[31mAttributeError\u001b[39m: module 'numpy' has no attribute 'three'"
     ]
    }
   ],
   "source": [
    "np.three(2,3)"
   ]
  },
  {
   "cell_type": "code",
   "execution_count": 98,
   "id": "111c9e64-423d-4fcc-9d9f-33920ef2f328",
   "metadata": {},
   "outputs": [
    {
     "ename": "NameError",
     "evalue": "name 'rand' is not defined",
     "output_type": "error",
     "traceback": [
      "\u001b[31m---------------------------------------------------------------------------\u001b[39m",
      "\u001b[31mNameError\u001b[39m                                 Traceback (most recent call last)",
      "\u001b[36mCell\u001b[39m\u001b[36m \u001b[39m\u001b[32mIn[98]\u001b[39m\u001b[32m, line 1\u001b[39m\n\u001b[32m----> \u001b[39m\u001b[32m1\u001b[39m \u001b[43mrand\u001b[49m(\u001b[32m2\u001b[39m,\u001b[32m3\u001b[39m)\n",
      "\u001b[31mNameError\u001b[39m: name 'rand' is not defined"
     ]
    }
   ],
   "source": [
    "rand(2,3)"
   ]
  },
  {
   "cell_type": "code",
   "execution_count": 99,
   "id": "ed7aeea8-762f-4c0a-89b0-5c354661c8d2",
   "metadata": {},
   "outputs": [
    {
     "ename": "NameError",
     "evalue": "name 'random' is not defined",
     "output_type": "error",
     "traceback": [
      "\u001b[31m---------------------------------------------------------------------------\u001b[39m",
      "\u001b[31mNameError\u001b[39m                                 Traceback (most recent call last)",
      "\u001b[36mCell\u001b[39m\u001b[36m \u001b[39m\u001b[32mIn[99]\u001b[39m\u001b[32m, line 1\u001b[39m\n\u001b[32m----> \u001b[39m\u001b[32m1\u001b[39m \u001b[43mrandom\u001b[49m.rand(\u001b[32m3\u001b[39m,\u001b[32m2\u001b[39m)\n",
      "\u001b[31mNameError\u001b[39m: name 'random' is not defined"
     ]
    }
   ],
   "source": [
    "random.rand(3,2)"
   ]
  },
  {
   "cell_type": "code",
   "execution_count": 100,
   "id": "c65b4006-c671-4892-bd97-715418dc2a2b",
   "metadata": {},
   "outputs": [
    {
     "data": {
      "text/plain": [
       "array([[0.85745668, 0.48829072],\n",
       "       [0.75819012, 0.55133986],\n",
       "       [0.75955594, 0.77575752]])"
      ]
     },
     "execution_count": 100,
     "metadata": {},
     "output_type": "execute_result"
    }
   ],
   "source": [
    "np.random.rand(3,2)"
   ]
  },
  {
   "cell_type": "code",
   "execution_count": 105,
   "id": "3ecc1a0e-4d19-45da-ad24-cd1417caced7",
   "metadata": {},
   "outputs": [
    {
     "data": {
      "text/plain": [
       "array([0.22722011, 0.68302037, 0.55615058, 0.19049201, 0.00183379])"
      ]
     },
     "execution_count": 105,
     "metadata": {},
     "output_type": "execute_result"
    }
   ],
   "source": [
    "np.random.rand(5) # it generate 5 randon number which is float"
   ]
  },
  {
   "cell_type": "code",
   "execution_count": 102,
   "id": "bab9b754-f81d-4a41-b47a-548be96a17a7",
   "metadata": {},
   "outputs": [
    {
     "ename": "AttributeError",
     "evalue": "module 'numpy' has no attribute 'rand'",
     "output_type": "error",
     "traceback": [
      "\u001b[31m---------------------------------------------------------------------------\u001b[39m",
      "\u001b[31mAttributeError\u001b[39m                            Traceback (most recent call last)",
      "\u001b[36mCell\u001b[39m\u001b[36m \u001b[39m\u001b[32mIn[102]\u001b[39m\u001b[32m, line 1\u001b[39m\n\u001b[32m----> \u001b[39m\u001b[32m1\u001b[39m \u001b[43mnp\u001b[49m\u001b[43m.\u001b[49m\u001b[43mrand\u001b[49m(\u001b[32m4\u001b[39m)\n",
      "\u001b[36mFile \u001b[39m\u001b[32m~\\AppData\\Local\\Programs\\Python\\Python313\\Lib\\site-packages\\numpy\\__init__.py:427\u001b[39m, in \u001b[36m__getattr__\u001b[39m\u001b[34m(attr)\u001b[39m\n\u001b[32m    424\u001b[39m     \u001b[38;5;28;01mimport\u001b[39;00m\u001b[38;5;250m \u001b[39m\u001b[34;01mnumpy\u001b[39;00m\u001b[34;01m.\u001b[39;00m\u001b[34;01mchar\u001b[39;00m\u001b[38;5;250m \u001b[39m\u001b[38;5;28;01mas\u001b[39;00m\u001b[38;5;250m \u001b[39m\u001b[34;01mchar\u001b[39;00m\n\u001b[32m    425\u001b[39m     \u001b[38;5;28;01mreturn\u001b[39;00m char.chararray\n\u001b[32m--> \u001b[39m\u001b[32m427\u001b[39m \u001b[38;5;28;01mraise\u001b[39;00m \u001b[38;5;167;01mAttributeError\u001b[39;00m(\u001b[33m\"\u001b[39m\u001b[33mmodule \u001b[39m\u001b[38;5;132;01m{!r}\u001b[39;00m\u001b[33m has no attribute \u001b[39m\u001b[33m\"\u001b[39m\n\u001b[32m    428\u001b[39m                      \u001b[33m\"\u001b[39m\u001b[38;5;132;01m{!r}\u001b[39;00m\u001b[33m\"\u001b[39m.format(\u001b[34m__name__\u001b[39m, attr))\n",
      "\u001b[31mAttributeError\u001b[39m: module 'numpy' has no attribute 'rand'"
     ]
    }
   ],
   "source": [
    "np.rand(4)"
   ]
  },
  {
   "cell_type": "code",
   "execution_count": 103,
   "id": "af3ae30f-b994-44d1-b502-e287af80207d",
   "metadata": {},
   "outputs": [
    {
     "data": {
      "text/plain": [
       "array([[0.13703787, 0.08357202, 0.23353605, 0.2257795 , 0.79120222],\n",
       "       [0.53565481, 0.94702539, 0.49325727, 0.25529001, 0.04688171],\n",
       "       [0.36176941, 0.1023086 , 0.34372092, 0.42334148, 0.23768487]])"
      ]
     },
     "execution_count": 103,
     "metadata": {},
     "output_type": "execute_result"
    }
   ],
   "source": [
    "np.random.rand(3,5)"
   ]
  },
  {
   "cell_type": "code",
   "execution_count": 106,
   "id": "01b0c054-1365-4c64-afd7-fa1f566b5962",
   "metadata": {},
   "outputs": [
    {
     "data": {
      "text/plain": [
       "11"
      ]
     },
     "execution_count": 106,
     "metadata": {},
     "output_type": "execute_result"
    }
   ],
   "source": [
    "np.random.randint(13) # it generate a random single number in between0 to 13 "
   ]
  },
  {
   "cell_type": "code",
   "execution_count": 109,
   "id": "cbe7c84c-05da-4f45-802e-d849c0bef573",
   "metadata": {},
   "outputs": [
    {
     "data": {
      "text/plain": [
       "5"
      ]
     },
     "execution_count": 109,
     "metadata": {},
     "output_type": "execute_result"
    }
   ],
   "source": [
    "np.random.randint(4,6) # Generate a random number between 4 to 5"
   ]
  },
  {
   "cell_type": "code",
   "execution_count": 111,
   "id": "b104fa2b-7ac3-4037-bbd2-bacbd9ba9034",
   "metadata": {},
   "outputs": [
    {
     "data": {
      "text/plain": [
       "array([11, 19, 19, 17], dtype=int32)"
      ]
     },
     "execution_count": 111,
     "metadata": {},
     "output_type": "execute_result"
    }
   ],
   "source": [
    "np.random.randint(2,20,4) # Generate 4 random number between 2 to 20"
   ]
  },
  {
   "cell_type": "code",
   "execution_count": 126,
   "id": "5f0c5644-6c17-42af-b1d7-ffdcb808fc72",
   "metadata": {},
   "outputs": [
    {
     "data": {
      "text/plain": [
       "0"
      ]
     },
     "execution_count": 126,
     "metadata": {},
     "output_type": "execute_result"
    }
   ],
   "source": [
    "np.random.randint(0,1)"
   ]
  },
  {
   "cell_type": "code",
   "execution_count": 127,
   "id": "9f7a3b3c-c919-4fdc-99fb-26c3e522312d",
   "metadata": {},
   "outputs": [
    {
     "data": {
      "text/plain": [
       "array([16, 12, 10, 12, 15], dtype=int32)"
      ]
     },
     "execution_count": 127,
     "metadata": {},
     "output_type": "execute_result"
    }
   ],
   "source": [
    "np.random.randint(10,20,5)"
   ]
  },
  {
   "cell_type": "code",
   "execution_count": 128,
   "id": "5a53f97f-b3d6-4e63-a5f9-e09f2ef764a4",
   "metadata": {},
   "outputs": [
    {
     "data": {
      "text/plain": [
       "array([164, 171, 165, 144, 159, 180, 132, 170, 147, 136, 152, 124, 165,\n",
       "       149, 184, 178, 135, 148, 169, 157, 157, 182, 166, 145, 140, 128,\n",
       "       160, 140, 134, 162, 160, 187, 143, 135, 150, 146, 188, 137, 125,\n",
       "       154, 123, 181, 176, 145, 166, 158, 186, 137, 168, 188, 160, 183,\n",
       "       156, 164, 174, 123, 148, 144, 174, 143, 124, 123, 163, 129, 126,\n",
       "       148, 173, 148, 174, 150, 137, 134, 165, 144, 154, 159, 143, 180,\n",
       "       188, 141, 151, 141, 142, 175, 168, 137, 142, 141, 163, 143, 183,\n",
       "       154, 154, 159, 129, 124, 166, 175, 188, 174], dtype=int32)"
      ]
     },
     "execution_count": 128,
     "metadata": {},
     "output_type": "execute_result"
    }
   ],
   "source": [
    "np.random.randint(123,189,100)"
   ]
  },
  {
   "cell_type": "code",
   "execution_count": 129,
   "id": "0a31bf59-075a-4153-bf5c-023f1033d85c",
   "metadata": {},
   "outputs": [
    {
     "data": {
      "text/plain": [
       "array([[ 1],\n",
       "       [ 2],\n",
       "       [ 3],\n",
       "       [ 4],\n",
       "       [ 5],\n",
       "       [ 6],\n",
       "       [ 7],\n",
       "       [ 8],\n",
       "       [ 9],\n",
       "       [10],\n",
       "       [11],\n",
       "       [12]])"
      ]
     },
     "execution_count": 129,
     "metadata": {},
     "output_type": "execute_result"
    }
   ],
   "source": [
    "np.arange(1,13).reshape(12,1)"
   ]
  },
  {
   "cell_type": "code",
   "execution_count": 132,
   "id": "acc96133-ce0c-40c4-96d9-21a7678dc055",
   "metadata": {},
   "outputs": [
    {
     "data": {
      "text/plain": [
       "array([[10, 11, 19, 12],\n",
       "       [11, 13, 12, 13],\n",
       "       [16, 13, 14, 13],\n",
       "       [15, 13, 14, 19],\n",
       "       [16, 19, 17, 16]], dtype=int32)"
      ]
     },
     "execution_count": 132,
     "metadata": {},
     "output_type": "execute_result"
    }
   ],
   "source": [
    "x =np.random.randint(10,20,(5,4))\n",
    "x"
   ]
  },
  {
   "cell_type": "code",
   "execution_count": 135,
   "id": "40a90ed0-f63b-4804-bb30-b1d945dd23fc",
   "metadata": {},
   "outputs": [
    {
     "data": {
      "text/plain": [
       "np.int32(11)"
      ]
     },
     "execution_count": 135,
     "metadata": {},
     "output_type": "execute_result"
    }
   ],
   "source": [
    "x[0,1]"
   ]
  },
  {
   "cell_type": "code",
   "execution_count": null,
   "id": "83c7c0be-689e-44d1-9b30-935898fa87c6",
   "metadata": {},
   "outputs": [],
   "source": []
  }
 ],
 "metadata": {
  "kernelspec": {
   "display_name": "Python 3 (ipykernel)",
   "language": "python",
   "name": "python3"
  },
  "language_info": {
   "codemirror_mode": {
    "name": "ipython",
    "version": 3
   },
   "file_extension": ".py",
   "mimetype": "text/x-python",
   "name": "python",
   "nbconvert_exporter": "python",
   "pygments_lexer": "ipython3",
   "version": "3.13.3"
  }
 },
 "nbformat": 4,
 "nbformat_minor": 5
}
